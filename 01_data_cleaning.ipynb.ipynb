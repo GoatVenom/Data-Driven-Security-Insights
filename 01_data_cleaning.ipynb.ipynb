{
 "cells": [
  {
   "cell_type": "code",
   "execution_count": null,
   "id": "a9b12e15-85ee-4198-a872-fbbb2b139718",
   "metadata": {},
   "outputs": [],
   "source": [
    "import pandas as pd\n",
    "\n",
    "# Load and clean the dataset\n",
    "df = pd.read_csv(r'C:\\Users\\kyle1\\Desktop\\BreachData\\Insights\\Breaches.csv', encoding='ISO-8859-1')\n",
    "df[\"records\"] = df[\"records\"].replace({',': ''}, regex=True).astype(float)\n",
    "df[\"year\"] = pd.to_datetime(df[\"date\"], errors='coerce').dt.year\n",
    "df = df.dropna(subset=[\"sector\", \"method\", \"year\"])\n",
    "df.to_csv(\"cleaned_breaches.csv\", index=False)"
   ]
  }
 ],
 "metadata": {
  "kernelspec": {
   "display_name": "Python 3 (ipykernel)",
   "language": "python",
   "name": "python3"
  },
  "language_info": {
   "codemirror_mode": {
    "name": "ipython",
    "version": 3
   },
   "file_extension": ".py",
   "mimetype": "text/x-python",
   "name": "python",
   "nbconvert_exporter": "python",
   "pygments_lexer": "ipython3",
   "version": "3.9.1"
  }
 },
 "nbformat": 4,
 "nbformat_minor": 5
}
