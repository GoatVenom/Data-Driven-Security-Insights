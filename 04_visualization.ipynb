{
 "cells": [
  {
   "cell_type": "code",
   "execution_count": null,
   "id": "8732d1d5-c54c-4e7a-9704-38e6c900a535",
   "metadata": {},
   "outputs": [],
   "source": [
    "import pandas as pd\n",
    "import seaborn as sns\n",
    "import matplotlib.pyplot as plt\n",
    "\n",
    "# Load cleaned data\n",
    "df = pd.read_csv(\"cleaned_breaches.csv\")\n",
    "\n",
    "# Plot 1: Breach count over time\n",
    "plt.figure(figsize=(10, 5))\n",
    "sns.countplot(data=df, x=\"year\")\n",
    "plt.title(\"Number of Breaches Per Year\")\n",
    "plt.xticks(rotation=45)\n",
    "plt.tight_layout()\n",
    "plt.show()\n",
    "\n",
    "# Plot 2: Method distribution\n",
    "plt.figure(figsize=(10, 5))\n",
    "sns.countplot(data=df, y=\"method\", order=df[\"method\"].value_counts().index)\n",
    "plt.title(\"Distribution of Breach Methods\")\n",
    "plt.tight_layout()\n",
    "plt.show()\n",
    "\n",
    "# Plot 3: Record impact distribution\n",
    "plt.figure(figsize=(10, 5))\n",
    "sns.histplot(df[\"records\"], bins=50, kde=True)\n",
    "plt.title(\"Distribution of Records Exposed\")\n",
    "plt.tight_layout()\n",
    "plt.show()\n"
   ]
  }
 ],
 "metadata": {
  "kernelspec": {
   "display_name": "Python 3 (ipykernel)",
   "language": "python",
   "name": "python3"
  },
  "language_info": {
   "codemirror_mode": {
    "name": "ipython",
    "version": 3
   },
   "file_extension": ".py",
   "mimetype": "text/x-python",
   "name": "python",
   "nbconvert_exporter": "python",
   "pygments_lexer": "ipython3",
   "version": "3.9.1"
  }
 },
 "nbformat": 4,
 "nbformat_minor": 5
}
