{
 "cells": [
  {
   "cell_type": "code",
   "execution_count": null,
   "id": "52d0bf6e-6807-4888-967c-96a747e9170d",
   "metadata": {},
   "outputs": [],
   "source": [
    "import pandas as pd\n",
    "from sklearn.model_selection import train_test_split\n",
    "from sklearn.preprocessing import LabelEncoder\n",
    "from sklearn.ensemble import RandomForestClassifier\n",
    "from sklearn.metrics import classification_report, confusion_matrix\n",
    "import matplotlib.pyplot as plt\n",
    "import seaborn as sns\n",
    "\n",
    "# Load cleaned data\n",
    "df = pd.read_csv(\"cleaned_breaches.csv\")\n",
    "\n",
    "# Encode features\n",
    "le_sector = LabelEncoder()\n",
    "df[\"sector_enc\"] = le_sector.fit_transform(df[\"sector\"])\n",
    "X = df[[\"sector_enc\", \"year\"]]\n",
    "y = df[\"method\"]\n",
    "le_method = LabelEncoder()\n",
    "y_enc = le_method.fit_transform(y)\n",
    "\n",
    "# Train-test split\n",
    "X_train, X_test, y_train, y_test = train_test_split(X, y_enc, test_size=0.2, random_state=42)\n",
    "\n",
    "# Train classifier\n",
    "clf = RandomForestClassifier(n_estimators=100, random_state=42)\n",
    "clf.fit(X_train, y_train)\n",
    "y_pred = clf.predict(X_test)\n",
    "\n",
    "# Decode predictions\n",
    "y_pred_original = le_method.inverse_transform(y_pred)\n",
    "y_test_original = le_method.inverse_transform(y_test)\n",
    "\n",
    "# Classification report\n",
    "print(classification_report(y_test_original, y_pred_original))\n",
    "\n",
    "# Confusion matrix\n",
    "conf_matrix = confusion_matrix(y_test_original, y_pred_original, labels=le_method.classes_)\n",
    "plt.figure(figsize=(6, 5))\n",
    "sns.heatmap(conf_matrix, annot=True, fmt=\"d\", xticklabels=le_method.classes_, yticklabels=le_method.classes_, cmap=\"Blues\")\n",
    "plt.title(\"Confusion Matrix - Breach Method Classifier\")\n",
    "plt.xlabel(\"Predicted\")\n",
    "plt.ylabel(\"Actual\")\n",
    "plt.tight_layout()\n",
    "plt.show()"
   ]
  }
 ],
 "metadata": {
  "kernelspec": {
   "display_name": "Python 3 (ipykernel)",
   "language": "python",
   "name": "python3"
  },
  "language_info": {
   "codemirror_mode": {
    "name": "ipython",
    "version": 3
   },
   "file_extension": ".py",
   "mimetype": "text/x-python",
   "name": "python",
   "nbconvert_exporter": "python",
   "pygments_lexer": "ipython3",
   "version": "3.9.1"
  }
 },
 "nbformat": 4,
 "nbformat_minor": 5
}
